{
  "nbformat": 4,
  "nbformat_minor": 0,
  "metadata": {
    "colab": {
      "name": "AI_ASSIGNMENT_3_testing.ipynb",
      "version": "0.3.2",
      "provenance": [],
      "collapsed_sections": [],
      "toc_visible": true
    },
    "kernelspec": {
      "name": "python3",
      "display_name": "Python 3"
    },
    "accelerator": "GPU"
  },
  "cells": [
    {
      "metadata": {
        "id": "JpOue7NYUcBt",
        "colab_type": "text"
      },
      "cell_type": "markdown",
      "source": [
        "Dataset: Fashion MINIST : https://www.kaggle.com/zalando-research/fashionmnist/home"
      ]
    },
    {
      "metadata": {
        "colab_type": "text",
        "id": "Dl6FhgWp_shQ"
      },
      "cell_type": "markdown",
      "source": [
        "First we import the librarys we will be using"
      ]
    },
    {
      "metadata": {
        "id": "VwLX15Urxyri",
        "colab_type": "code",
        "outputId": "a00150b8-5b2e-4145-913d-388361473794",
        "colab": {
          "base_uri": "https://localhost:8080/",
          "height": 34
        }
      },
      "cell_type": "code",
      "source": [
        "import numpy as np\n",
        "import pandas as pd\n",
        "\n",
        "import keras\n",
        "from keras.models import Sequential\n",
        "from keras.layers import Dense, Dropout, Flatten\n",
        "from keras.layers import Conv2D, MaxPooling2D\n",
        "from keras import backend as K\n",
        "from keras.preprocessing.image import ImageDataGenerator\n",
        "\n",
        "from matplotlib import pyplot\n",
        "\n",
        "np.random.seed(23)\n",
        "\n",
        "K.tensorflow_backend._get_available_gpus()"
      ],
      "execution_count": 0,
      "outputs": [
        {
          "output_type": "execute_result",
          "data": {
            "text/plain": [
              "['/job:localhost/replica:0/task:0/device:GPU:0']"
            ]
          },
          "metadata": {
            "tags": []
          },
          "execution_count": 21
        }
      ]
    },
    {
      "metadata": {
        "id": "PUxXAx5v14g9",
        "colab_type": "text"
      },
      "cell_type": "markdown",
      "source": [
        "Then we can define some constants to be used.\n",
        "\n",
        "We know all images in the dataset are 28 x 28 so we can define the row and column size. \n",
        "\n",
        "We also know all images in the dataset are labeled as 1 of 10 classes.\n",
        "* 0: T-shirt/top\n",
        "* 1: Trouser\n",
        "* 2: Pullover\n",
        "* 3: Dress\n",
        "* 4: Coat\n",
        "* 5: Sandal\n",
        "* 6: Shirt\n",
        "* 7: Sneaker\n",
        "* 8: Bag\n",
        "* 9: Ankle boot \n",
        "\n",
        "We also define the number of epoches and the batch_size we will use when building our model."
      ]
    },
    {
      "metadata": {
        "id": "nsGKsgMf15A8",
        "colab_type": "code",
        "colab": {}
      },
      "cell_type": "code",
      "source": [
        "batch_size = 128\n",
        "epochs = 25\n",
        "\n",
        "img_rows = 28\n",
        "img_cols = 28\n",
        "\n",
        "num_classes = 10"
      ],
      "execution_count": 0,
      "outputs": []
    },
    {
      "metadata": {
        "id": "n89yaoSp1y7y",
        "colab_type": "text"
      },
      "cell_type": "markdown",
      "source": [
        "Then we read in the training and testing data."
      ]
    },
    {
      "metadata": {
        "id": "cH-SX7zQx5tP",
        "colab_type": "code",
        "colab": {}
      },
      "cell_type": "code",
      "source": [
        "train_data = pd.read_csv('./fashion-mnist_train.csv')\n",
        "test_data = pd.read_csv('./fashion-mnist_test.csv')"
      ],
      "execution_count": 0,
      "outputs": []
    },
    {
      "metadata": {
        "id": "5ckrt_Ch2mzg",
        "colab_type": "text"
      },
      "cell_type": "markdown",
      "source": [
        "We then need to do some processing on the data to prepare it to be used in our CNN.\n",
        "\n",
        " We split our train and test data into our input variables X and our output variables y."
      ]
    },
    {
      "metadata": {
        "id": "qOoRhCuc4Dru",
        "colab_type": "code",
        "colab": {}
      },
      "cell_type": "code",
      "source": [
        "# convert class vectors to binary class matrices\n",
        "y_train = keras.utils.to_categorical(train_data.label, num_classes)\n",
        "y_test = keras.utils.to_categorical(test_data.label, num_classes)\n",
        "\n",
        "# get the number of training / testing images\n",
        "count_training = train_data.shape[0]\n",
        "count_testing = test_data.shape[0]\n",
        "print(count_training, \"training images\")\n",
        "print(count_testing, \"testing images\")\n",
        "\n",
        "\n",
        "X_train = train_data.values[:,1:]\n",
        "X_test = test_data.values[:,1:]\n",
        "\n",
        "X_train = X_train.reshape(count_training, img_rows, img_cols, 1)\n",
        "X_test = X_test.reshape(count_testing, img_rows, img_cols, 1)\n",
        "\n",
        "X_train = X_train.astype('float32')\n",
        "X_test = X_test.astype('float32')\n"
      ],
      "execution_count": 0,
      "outputs": []
    },
    {
      "metadata": {
        "id": "_27NpDi87n2v",
        "colab_type": "text"
      },
      "cell_type": "markdown",
      "source": [
        "We will augment our images using Keras ImageDataGenerator. \n",
        "\n",
        "\n",
        "First we will plot a few un-augmented images to see what they look like before augmentation."
      ]
    },
    {
      "metadata": {
        "id": "zCO1kHpp7oiB",
        "colab_type": "code",
        "outputId": "0ec492c4-f33c-4e17-ac03-9ec4014cdd34",
        "colab": {
          "base_uri": "https://localhost:8080/",
          "height": 349
        }
      },
      "cell_type": "code",
      "source": [
        "images_to_display = 9\n",
        "\n",
        "for i in range(0, images_to_display):\n",
        "\tpyplot.subplot(330 + 1 + i)\n",
        "\tpyplot.imshow(X_train[i].reshape(28, 28), cmap=pyplot.get_cmap('Greys'))"
      ],
      "execution_count": 0,
      "outputs": [
        {
          "output_type": "display_data",
          "data": {
            "image/png": "[encoded data removed]",
            "text/plain": [
              "<Figure size 576x396 with 9 Axes>"
            ]
          },
          "metadata": {
            "tags": []
          }
        }
      ]
    },
    {
      "metadata": {
        "id": "wtu5JVusn-TB",
        "colab_type": "text"
      },
      "cell_type": "markdown",
      "source": [
        "We will augment our training  images in a few ways.\n",
        "\n",
        "First we will add a random zoom in / zoom out. We will also flip the images horizontally. \n",
        "\n",
        "We do not need to flip them veritcally or apply a rotation since the images in the test dataset are already oriented properly. \n",
        "\n",
        "We will also apply a random amount of brightness modification and a random vertical / horizontal shift. \n",
        "\n",
        "Lastly we will augment both the training and validation data with a rescale of 1/255 to normallize the data since all pixel values are between 0-255.\n",
        "\n",
        "We then plot a few images so we can compare the differences of the augmented images with the un-agumented training data."
      ]
    },
    {
      "metadata": {
        "id": "F54KL2Ej93zF",
        "colab_type": "code",
        "outputId": "32e75656-ec28-45aa-d0c4-0155d090e0e7",
        "colab": {
          "base_uri": "https://localhost:8080/",
          "height": 349
        }
      },
      "cell_type": "code",
      "source": [
        "training_datagen = ImageDataGenerator(\n",
        "    rescale=1. / 255, # normalize images\n",
        "    shear_range=0.2,\n",
        "    zoom_range=[0.85, 1.20], # zoom in / out of images\n",
        "    horizontal_flip=True, # flip horizontally\n",
        "    vertical_flip=False, # do not flip vertically\n",
        "    fill_mode='reflect',\n",
        "    brightness_range=[0.85, 1.20], # adjust the brightness\n",
        "    width_shift_range=0.1, # shift horizontally\n",
        "    height_shift_range=0.1, # shift vertically\n",
        ")\n",
        "\n",
        "# for test data we just want to rescale\n",
        "testing_datagen = ImageDataGenerator(rescale=1. / 255)\n",
        "\n",
        "training_generator = training_datagen.flow(X_train, y_train,\n",
        "                                     batch_size=batch_size)\n",
        "\n",
        "validation_generator = testing_datagen.flow(X_train, y_train,\n",
        "                                     batch_size=batch_size)\n",
        "\n",
        "images_to_display = 9\n",
        "\n",
        "# show sample of augmented images\n",
        "for X_batch, y_batch in training_datagen.flow(X_train, y_train, batch_size=images_to_display):\n",
        "\t# create a grid of 3x3 images\n",
        "\tfor i in range(0, images_to_display):\n",
        "\t\tpyplot.subplot(330 + 1 + i)\n",
        "\t\tpyplot.imshow(X_batch[i].reshape(28, 28), cmap=pyplot.get_cmap('Greys'))\n",
        "\t# show the plot\n",
        "\tpyplot.show()\n",
        "\tbreak"
      ],
      "execution_count": 0,
      "outputs": [
        {
          "output_type": "display_data",
          "data": {
            "image/png": "[encoded data removed]",
            "text/plain": [
              "<Figure size 576x396 with 9 Axes>"
            ]
          },
          "metadata": {
            "tags": []
          }
        }
      ]
    },
    {
      "metadata": {
        "id": "-KkQ71xQ7pCa",
        "colab_type": "text"
      },
      "cell_type": "markdown",
      "source": [
        "Then we build our model using a combination of different layers.\n",
        "\n",
        "We start with a Convolutional layer with 32 feature maps of size 3 x 3. We also use the relu activation function to add some non-linearity to our network.\n",
        "\n",
        "We then use another Convolutional layer but this time with 64 feature maps of size 3 x 3.\n",
        "\n",
        "We then use a MaxPooling layer that takes the maximum value using a Pool size of 2 x 2.\n",
        "\n",
        "We then add a dropout layer of 25% to help prevent overfitting.\n",
        "\n",
        "We then add a flatten layer.\n",
        "\n",
        "We then add a dense (fully connected) layer that again uses the rectifier activation function.\n",
        "\n",
        "We then use another dropout layer to again help prevent overfitting to the training data.\n",
        "\n",
        "Finally we add the output layer which is a dense layer with 10 nuerons that uses the softmax activation function.\n",
        "\n",
        "We then compile the model using the the categorical_crossentropy loss function since we are using catigorical data that has been one-hot encoded into a vector that is all zero except for a 1 at the index of its class.\n",
        "\n",
        "Lastly we output a summary of our model to make sure it is implemented as described."
      ]
    },
    {
      "metadata": {
        "id": "bstI5y76zPp2",
        "colab_type": "code",
        "outputId": "315ef65a-0480-4d82-94e9-980503bcc77c",
        "colab": {
          "base_uri": "https://localhost:8080/",
          "height": 408
        }
      },
      "cell_type": "code",
      "source": [
        "# Model\n",
        "model = Sequential()\n",
        "\n",
        "# Convolutional layer with 32 feature maps of size 3 x 3\n",
        "model.add(Conv2D(32, kernel_size=(3, 3),\n",
        "                 activation='relu',\n",
        "                 input_shape=(img_rows, img_cols, 1)))\n",
        "\n",
        "# Convolutional layer with 64 feature maps of size 3 x 3\n",
        "model.add(Conv2D(64, \n",
        "                 kernel_size=(3, 3), \n",
        "                 activation='relu'))\n",
        "\n",
        "# Pooling layer taking the max over 2 x 2 patches.\n",
        "model.add(MaxPooling2D(pool_size=(2, 2)))\n",
        "\n",
        "# Dropout 1/4 to prevent overfitting\n",
        "model.add(Dropout(0.25))\n",
        "\n",
        "# Flatten\n",
        "model.add(Flatten())\n",
        "\n",
        "# 128 neurons Dense layer with using rectifier activation.\n",
        "model.add(Dense(128, activation='relu'))\n",
        "\n",
        "# Dropout 1/2 to prevent overfitting\n",
        "model.add(Dropout(0.5))\n",
        "\n",
        "# Output layer using softmax\n",
        "model.add(Dense(num_classes, activation='softmax'))\n",
        "\n",
        "\n",
        "model.compile(loss=keras.losses.categorical_crossentropy,\n",
        "              optimizer='adam',\n",
        "              metrics=['accuracy'])\n",
        "\n",
        "model.summary()"
      ],
      "execution_count": 0,
      "outputs": [
        {
          "output_type": "stream",
          "text": [
            "_________________________________________________________________\n",
            "Layer (type)                 Output Shape              Param #   \n",
            "=================================================================\n",
            "conv2d_3 (Conv2D)            (None, 26, 26, 32)        320       \n",
            "_________________________________________________________________\n",
            "conv2d_4 (Conv2D)            (None, 24, 24, 64)        18496     \n",
            "_________________________________________________________________\n",
            "max_pooling2d_2 (MaxPooling2 (None, 12, 12, 64)        0         \n",
            "_________________________________________________________________\n",
            "dropout_3 (Dropout)          (None, 12, 12, 64)        0         \n",
            "_________________________________________________________________\n",
            "flatten_2 (Flatten)          (None, 9216)              0         \n",
            "_________________________________________________________________\n",
            "dense_3 (Dense)              (None, 128)               1179776   \n",
            "_________________________________________________________________\n",
            "dropout_4 (Dropout)          (None, 128)               0         \n",
            "_________________________________________________________________\n",
            "dense_4 (Dense)              (None, 10)                1290      \n",
            "=================================================================\n",
            "Total params: 1,199,882\n",
            "Trainable params: 1,199,882\n",
            "Non-trainable params: 0\n",
            "_________________________________________________________________\n"
          ],
          "name": "stdout"
        }
      ]
    },
    {
      "metadata": {
        "id": "oNoj0PZUsRcX",
        "colab_type": "text"
      },
      "cell_type": "markdown",
      "source": [
        "We then train our data using the randomly augmented images."
      ]
    },
    {
      "metadata": {
        "id": "3ShJUQG0i8ET",
        "colab_type": "code",
        "outputId": "c4ea340c-f7ec-4ada-e5f9-0f6f3bfbef79",
        "colab": {
          "base_uri": "https://localhost:8080/",
          "height": 1020
        }
      },
      "cell_type": "code",
      "source": [
        "model.fit_generator(training_generator,\n",
        "                        epochs=epochs,\n",
        "                        steps_per_epoch=(count_training // batch_size),\n",
        "                        validation_data=validation_generator,\n",
        "                        validation_steps=count_testing // batch_size,\n",
        "                        workers=4)"
      ],
      "execution_count": 0,
      "outputs": [
        {
          "output_type": "stream",
          "text": [
            "Epoch 1/25\n",
            "468/468 [==============================] - 65s 140ms/step - loss: 0.8251 - acc: 0.6996 - val_loss: 0.4323 - val_acc: 0.8421\n",
            "Epoch 2/25\n",
            "468/468 [==============================] - 62s 133ms/step - loss: 0.5921 - acc: 0.7805 - val_loss: 0.3920 - val_acc: 0.8505\n",
            "Epoch 3/25\n",
            "468/468 [==============================] - 63s 135ms/step - loss: 0.5387 - acc: 0.8026 - val_loss: 0.3537 - val_acc: 0.8696\n",
            "Epoch 4/25\n",
            "468/468 [==============================] - 63s 135ms/step - loss: 0.4991 - acc: 0.8164 - val_loss: 0.3345 - val_acc: 0.8725\n",
            "Epoch 5/25\n",
            "468/468 [==============================] - 63s 135ms/step - loss: 0.4753 - acc: 0.8254 - val_loss: 0.3260 - val_acc: 0.8788\n",
            "Epoch 6/25\n",
            "468/468 [==============================] - 64s 136ms/step - loss: 0.4581 - acc: 0.8311 - val_loss: 0.3121 - val_acc: 0.8786\n",
            "Epoch 7/25\n",
            "468/468 [==============================] - 64s 136ms/step - loss: 0.4417 - acc: 0.8365 - val_loss: 0.2779 - val_acc: 0.8985\n",
            "Epoch 8/25\n",
            "468/468 [==============================] - 63s 135ms/step - loss: 0.4309 - acc: 0.8428 - val_loss: 0.2762 - val_acc: 0.8952\n",
            "Epoch 9/25\n",
            "468/468 [==============================] - 63s 136ms/step - loss: 0.4206 - acc: 0.8447 - val_loss: 0.2977 - val_acc: 0.8902\n",
            "Epoch 10/25\n",
            "468/468 [==============================] - 63s 135ms/step - loss: 0.4082 - acc: 0.8503 - val_loss: 0.2578 - val_acc: 0.9049\n",
            "Epoch 11/25\n",
            "468/468 [==============================] - 63s 134ms/step - loss: 0.4012 - acc: 0.8524 - val_loss: 0.2640 - val_acc: 0.9000\n",
            "Epoch 12/25\n",
            "468/468 [==============================] - 62s 132ms/step - loss: 0.3960 - acc: 0.8537 - val_loss: 0.2572 - val_acc: 0.9042\n",
            "Epoch 13/25\n",
            "468/468 [==============================] - 63s 134ms/step - loss: 0.3911 - acc: 0.8587 - val_loss: 0.2627 - val_acc: 0.8984\n",
            "Epoch 14/25\n",
            "468/468 [==============================] - 62s 133ms/step - loss: 0.3876 - acc: 0.8580 - val_loss: 0.2556 - val_acc: 0.9034\n",
            "Epoch 15/25\n",
            "468/468 [==============================] - 61s 130ms/step - loss: 0.3754 - acc: 0.8620 - val_loss: 0.2599 - val_acc: 0.9003\n",
            "Epoch 16/25\n",
            "468/468 [==============================] - 61s 130ms/step - loss: 0.3736 - acc: 0.8616 - val_loss: 0.2469 - val_acc: 0.9113\n",
            "Epoch 17/25\n",
            "468/468 [==============================] - 60s 128ms/step - loss: 0.3666 - acc: 0.8645 - val_loss: 0.2421 - val_acc: 0.9077\n",
            "Epoch 18/25\n",
            "468/468 [==============================] - 59s 127ms/step - loss: 0.3650 - acc: 0.8676 - val_loss: 0.2478 - val_acc: 0.9062\n",
            "Epoch 19/25\n",
            "468/468 [==============================] - 60s 129ms/step - loss: 0.3623 - acc: 0.8681 - val_loss: 0.2383 - val_acc: 0.9099\n",
            "Epoch 20/25\n",
            "468/468 [==============================] - 62s 132ms/step - loss: 0.3611 - acc: 0.8673 - val_loss: 0.2515 - val_acc: 0.9037\n",
            "Epoch 21/25\n",
            "468/468 [==============================] - 61s 131ms/step - loss: 0.3585 - acc: 0.8701 - val_loss: 0.2287 - val_acc: 0.9152\n",
            "Epoch 22/25\n",
            "468/468 [==============================] - 64s 137ms/step - loss: 0.3570 - acc: 0.8683 - val_loss: 0.2374 - val_acc: 0.9126\n",
            "Epoch 23/25\n",
            "468/468 [==============================] - 63s 135ms/step - loss: 0.3492 - acc: 0.8726 - val_loss: 0.2153 - val_acc: 0.9223\n",
            "Epoch 24/25\n",
            "468/468 [==============================] - 62s 133ms/step - loss: 0.3508 - acc: 0.8707 - val_loss: 0.2261 - val_acc: 0.9160\n",
            "Epoch 25/25\n",
            "468/468 [==============================] - 64s 136ms/step - loss: 0.3422 - acc: 0.8746 - val_loss: 0.2316 - val_acc: 0.9115\n"
          ],
          "name": "stdout"
        },
        {
          "output_type": "execute_result",
          "data": {
            "text/plain": [
              "<keras.callbacks.History at 0x7f23905fa8d0>"
            ]
          },
          "metadata": {
            "tags": []
          },
          "execution_count": 28
        }
      ]
    },
    {
      "metadata": {
        "id": "3kPwhaP-sbQr",
        "colab_type": "text"
      },
      "cell_type": "markdown",
      "source": [
        "After training we can evaluate our model using the test data to see our loss and accuracy scores."
      ]
    },
    {
      "metadata": {
        "id": "im9yjPLEzX1Y",
        "colab_type": "code",
        "outputId": "762b8166-3fde-4753-8618-2563883381d3",
        "colab": {
          "base_uri": "https://localhost:8080/",
          "height": 51
        }
      },
      "cell_type": "code",
      "source": [
        "# rescale the test data before evaluating the model\n",
        "X_test_rescaled = X_test / 255\n",
        "\n",
        "score = model.evaluate(X_test_rescaled, y_test, verbose=0)\n",
        "print('Test loss:', score[0])\n",
        "print('Test accuracy:', score[1])"
      ],
      "execution_count": 0,
      "outputs": [
        {
          "output_type": "stream",
          "text": [
            "Test loss: 0.2333637446641922\n",
            "Test accuracy: 0.9161\n"
          ],
          "name": "stdout"
        }
      ]
    }
  ]
}